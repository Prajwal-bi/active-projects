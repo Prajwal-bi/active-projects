{
 "cells": [
  {
   "cell_type": "code",
   "execution_count": 1,
   "id": "6246c997-b0f1-4da5-b95c-96aaaaf37aaa",
   "metadata": {},
   "outputs": [],
   "source": [
    "a = 5\n",
    "b = 10 \n",
    "# Swap a and b without temp"
   ]
  },
  {
   "cell_type": "code",
   "execution_count": 2,
   "id": "41a5d806-b62d-4e4b-ae7c-a60aded25a0e",
   "metadata": {},
   "outputs": [
    {
     "name": "stdout",
     "output_type": "stream",
     "text": [
      "a= 10 b= 5\n"
     ]
    }
   ],
   "source": [
    "a = a+b\n",
    "b = a-b\n",
    "a = a-b\n",
    "print(\"a=\", a, \"b=\", b)"
   ]
  },
  {
   "cell_type": "code",
   "execution_count": 4,
   "id": "cd2b274d-d177-48c0-91ae-ffcc0ca9b0e9",
   "metadata": {},
   "outputs": [
    {
     "data": {
      "text/plain": [
       "3"
      ]
     },
     "execution_count": 4,
     "metadata": {},
     "output_type": "execute_result"
    }
   ],
   "source": [
    "# Count vowels in a string \n",
    "def count_vowels(s):\n",
    "    vowel = 'aeiouAEIOU'\n",
    "    count = 0\n",
    "    for char in s:\n",
    "        if char in vowel:\n",
    "            count += 1\n",
    "    return count\n",
    "\n",
    "count_vowels(\"Hello World\")"
   ]
  },
  {
   "cell_type": "code",
   "execution_count": 5,
   "id": "2b28d119-d8c7-45a6-8306-d3248282af79",
   "metadata": {},
   "outputs": [
    {
     "name": "stdout",
     "output_type": "stream",
     "text": [
      "{'name': 'Prajwal', 'age': 24, 'course': 'Data Science'}\n"
     ]
    }
   ],
   "source": [
    "# Create a Dictionary from Two Lists\n",
    "keys = [\"name\", \"age\", \"course\"]\n",
    "values = [\"Prajwal\", 24, \"Data Science\"]\n",
    "\n",
    "# Dictionary\n",
    "my_dict = dict(zip(keys,values))\n",
    "print(my_dict)"
   ]
  },
  {
   "cell_type": "code",
   "execution_count": 6,
   "id": "88f2ad41-63a3-466f-93f8-6308c6a6ef35",
   "metadata": {},
   "outputs": [
    {
     "data": {
      "text/plain": [
       "[0, 1, 1, 2, 3, 5, 8, 13, 21, 34]"
      ]
     },
     "execution_count": 6,
     "metadata": {},
     "output_type": "execute_result"
    }
   ],
   "source": [
    "# Fibonacci Series Using Function\n",
    "def fibonacci(n):\n",
    "    fib_series = [0,1]\n",
    "    for i in range(2,n):\n",
    "        fib_series.append(fib_series[i-1] + fib_series[i-2])\n",
    "    return fib_series\n",
    "\n",
    "fibonacci(10)"
   ]
  },
  {
   "cell_type": "code",
   "execution_count": null,
   "id": "45d88c46-b5a0-4edb-8cca-44a835ae241d",
   "metadata": {},
   "outputs": [],
   "source": [
    "# Squares of even numbers in a list\n",
    "nums = [1, 2, 3, 4, 5, 6, 7, 8]\n",
    "squares = [n**2 for n in nums if"
   ]
  }
 ],
 "metadata": {
  "kernelspec": {
   "display_name": "Python 3 (ipykernel)",
   "language": "python",
   "name": "python3"
  },
  "language_info": {
   "codemirror_mode": {
    "name": "ipython",
    "version": 3
   },
   "file_extension": ".py",
   "mimetype": "text/x-python",
   "name": "python",
   "nbconvert_exporter": "python",
   "pygments_lexer": "ipython3",
   "version": "3.13.3"
  }
 },
 "nbformat": 4,
 "nbformat_minor": 5
}
